{
 "cells": [
  {
   "cell_type": "code",
   "execution_count": 27,
   "metadata": {},
   "outputs": [],
   "source": [
    "# Dependencies \n",
    "from bs4 import BeautifulSoup\n",
    "import requests \n",
    "import pymongo\n",
    "import pandas as pd \n",
    "import numpy as np"
   ]
  },
  {
   "cell_type": "code",
   "execution_count": 28,
   "metadata": {},
   "outputs": [],
   "source": [
    "# Initialize PyMongo to work with MongoDBs\n",
    "conn = 'mongodb://localhost:27017'\n",
    "client = pymongo.MongoClient(conn)"
   ]
  },
  {
   "cell_type": "code",
   "execution_count": 29,
   "metadata": {},
   "outputs": [],
   "source": [
    "# Define database and collection \n",
    "db = client.quote_db\n",
    "collection = db.quotes"
   ]
  },
  {
   "cell_type": "code",
   "execution_count": 30,
   "metadata": {},
   "outputs": [],
   "source": [
    "# URL of page to be scraped \n",
    "url = 'http://quotes.toscrape.com'\n",
    "\n",
    "# Retrieve page with the requests module \n",
    "response = requests.get(url)\n",
    "\n",
    "# Create BeautifulSoup object parse with 'html.parser'\n",
    "soup = BeautifulSoup(response.text, 'html.parser')"
   ]
  },
  {
   "cell_type": "code",
   "execution_count": 31,
   "metadata": {},
   "outputs": [
    {
     "ename": "SyntaxError",
     "evalue": "'return' outside function (<ipython-input-31-281f80e9e2db>, line 27)",
     "output_type": "error",
     "traceback": [
      "\u001b[0;36m  File \u001b[0;32m\"<ipython-input-31-281f80e9e2db>\"\u001b[0;36m, line \u001b[0;32m27\u001b[0m\n\u001b[0;31m    return result.get_text()\u001b[0m\n\u001b[0m    ^\u001b[0m\n\u001b[0;31mSyntaxError\u001b[0m\u001b[0;31m:\u001b[0m 'return' outside function\n"
     ]
    }
   ],
   "source": [
    "# pages = np.arange(1,10,1)\n",
    "# for page in pages:\n",
    "\n",
    "# Retrieve the parent divs for all quotes \n",
    "results = soup.find_all('div', class_ = 'quote')\n",
    "scrapped = []\n",
    "\n",
    "\n",
    "# Loop over results to get quote data \n",
    "for result in results: \n",
    "    # Scrape Quote Text \n",
    "    quote_text = result.find('span', class_ = 'text').text\n",
    "    \n",
    "    # Scrage Tags \n",
    "    tags = result.find('div', class_ = 'tags').text\n",
    "    \n",
    "    # Scrape Author Name \n",
    "    author_name = result.find('small', class_ = 'author').text\n",
    "    \n",
    "    # Scrape Author Details \n",
    "    about_url = result.find('a').attrs['href']\n",
    "    new_url = f\"{url}{about_url}\" \n",
    "    \n",
    "    # print quote data \n",
    "    print(quote_text)\n",
    "    print(tags)\n",
    "    print(author_name)\n",
    "    print(new_url)\n",
    "    \n",
    "    # Dictionary to be inserted into MongoDB\n",
    "    quote_info = {\n",
    "        'quote_text': quote_text,\n",
    "        'tags': tags, \n",
    "        'author_name': author_name,\n",
    "    }\n",
    "    \n",
    "    # Insert dictionary into MongoDB as a document \n",
    "    collection.insert_one(quote_info)"
   ]
  },
  {
   "cell_type": "code",
   "execution_count": 32,
   "metadata": {},
   "outputs": [],
   "source": [
    "for result in soup.find_all('div', class_ = 'author-description'):\n",
    "    print(result.get_text())"
   ]
  },
  {
   "cell_type": "code",
   "execution_count": 33,
   "metadata": {},
   "outputs": [],
   "source": [
    "for result in soup.find_all(\"span\", {\"class\": \"author-born-date\"}):\n",
    "    print(result.get_text())"
   ]
  },
  {
   "cell_type": "code",
   "execution_count": null,
   "metadata": {},
   "outputs": [],
   "source": [
    "\n",
    "    "
   ]
  },
  {
   "cell_type": "code",
   "execution_count": null,
   "metadata": {},
   "outputs": [],
   "source": [
    "quotes = db.quotes.find()\n",
    "\n",
    "for quote in quotes:\n",
    "    print(quote)"
   ]
  },
  {
   "cell_type": "code",
   "execution_count": null,
   "metadata": {},
   "outputs": [],
   "source": []
  },
  {
   "cell_type": "code",
   "execution_count": null,
   "metadata": {},
   "outputs": [],
   "source": []
  },
  {
   "cell_type": "code",
   "execution_count": null,
   "metadata": {},
   "outputs": [],
   "source": []
  }
 ],
 "metadata": {
  "kernelspec": {
   "display_name": "Python 3",
   "language": "python",
   "name": "python3"
  },
  "language_info": {
   "codemirror_mode": {
    "name": "ipython",
    "version": 3
   },
   "file_extension": ".py",
   "mimetype": "text/x-python",
   "name": "python",
   "nbconvert_exporter": "python",
   "pygments_lexer": "ipython3",
   "version": "3.8.3"
  }
 },
 "nbformat": 4,
 "nbformat_minor": 4
}
