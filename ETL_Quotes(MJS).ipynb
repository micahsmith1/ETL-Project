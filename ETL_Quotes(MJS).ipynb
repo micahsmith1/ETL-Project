{
 "cells": [
  {
   "cell_type": "code",
   "execution_count": 27,
   "metadata": {},
   "outputs": [],
   "source": [
    "# Dependencies \n",
    "import os\n",
    "from bs4 import BeautifulSoup as bs\n",
    "import requests\n",
    "import pymongo\n",
    "from splinter import Browser\n",
    "import pandas as pd\n",
    "from flask import Flask, redirect, render_template, jsonify\n",
    "import time\n",
    "from selenium import webdriver\n",
    "import lxml\n",
    "import urllib"
   ]
  },
  {
   "cell_type": "code",
   "execution_count": null,
   "metadata": {},
   "outputs": [],
   "source": [
    "# Initialize PyMongo to work with MongoDBs\n",
    "conn = 'mongodb://localhost:27017'\n",
    "client = pymongo.MongoClient(conn)"
   ]
  },
  {
   "cell_type": "code",
   "execution_count": null,
   "metadata": {},
   "outputs": [],
   "source": [
    "# Define database and collection \n",
    "db = client.quotes\n",
    "collection = db.quotes"
   ]
  },
  {
   "cell_type": "code",
   "execution_count": null,
   "metadata": {},
   "outputs": [],
   "source": [
    "# ENTIRE Quote List \n",
    "total_quotes=[]\n",
    "# Counter\n",
    "__id = 0 \n",
    "\n",
    "for r in range(1,11):\n",
    "    url=f'http://quotes.toscrape.com/page/{r}'\n",
    "    response=requests.get(url)\n",
    "    soup=bs(response.text, \"lxml\")\n",
    "\n",
    "    ascrape=soup.find_all('div',{'class':'quote'})\n",
    "    for a in ascrape:\n",
    "        # ID Number \n",
    "        __id += 1 \n",
    "        \n",
    "        # Scrape Quote \n",
    "        quote=a.find('span', class_='text').text\n",
    "        \n",
    "        # Scrape Author Name \n",
    "        author_name=a.find('small', class_='author').text\n",
    "        # Scrape Tags \n",
    "        tags_list=[]\n",
    "        tags=a.find('div', class_='tags').find_all('a')\n",
    "        for tag in tags:\n",
    "            tag_text=tag.text.strip()\n",
    "            tags_list.append(tag_text)\n",
    "            \n",
    "        # New URL for author details \n",
    "        href = a.a[\"href\"]\n",
    "        author_url = f'http://quotes.toscrape.com{href}'\n",
    "        author_response = requests.get(author_url)\n",
    "        author_soup = bs(author_response.text, 'lxml')\n",
    "        \n",
    "        # Scrape Author Details (Birthdate and Description)\n",
    "        author_born = author_soup.find('span', class_ = 'author-born-date').text\n",
    "        author_desrp = author_soup.find('div', class_ = 'author-description').text\n",
    "        \n",
    "        # Author Details Dictionary \n",
    "        author = {\n",
    "            \"name\": author_name,\n",
    "            \"birthdate\": author_born,\n",
    "            \"description\": author_desrp\n",
    "        }\n",
    "        \n",
    "        # ENTIRE Quote Dictionary to be inserted into MongoDB\n",
    "        data = {\n",
    "            '__id': __id,\n",
    "            'quote': quote,\n",
    "            'author': author,\n",
    "            'tags': tags_list,\n",
    "        }\n",
    "        total_quotes.append(data)\n",
    "        \n",
    "        # Insert dictionary into MongoDB as a document \n",
    "        collection.insert_one(data)\n"
   ]
  },
  {
   "cell_type": "code",
   "execution_count": null,
   "metadata": {},
   "outputs": [],
   "source": []
  },
  {
   "cell_type": "code",
   "execution_count": null,
   "metadata": {},
   "outputs": [],
   "source": []
  }
 ],
 "metadata": {
  "kernelspec": {
   "display_name": "Python 3",
   "language": "python",
   "name": "python3"
  },
  "language_info": {
   "codemirror_mode": {
    "name": "ipython",
    "version": 3
   },
   "file_extension": ".py",
   "mimetype": "text/x-python",
   "name": "python",
   "nbconvert_exporter": "python",
   "pygments_lexer": "ipython3",
   "version": "3.8.3"
  }
 },
 "nbformat": 4,
 "nbformat_minor": 4
}
